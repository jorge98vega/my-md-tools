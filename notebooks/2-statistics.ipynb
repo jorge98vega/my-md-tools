{
 "cells": [
  {
   "cell_type": "markdown",
   "id": "80b5ac0f-69e2-4c27-9c0d-506138a516ca",
   "metadata": {},
   "source": [
    "# Statistics\n",
    "\n",
    "### Index\n",
    "0. [Imports](#imports)\n",
    "1. [System parameters](#parameters)\n",
    "2. [Number statistics](#stats)\n",
    "3. [Hydrogen bond statistics](#hbonds)\n",
    "4. [Path-residues](#respaths)"
   ]
  },
  {
   "cell_type": "markdown",
   "id": "fa73e119-e26f-4eec-8bca-9b54b7b23d26",
   "metadata": {},
   "source": [
    "### Imports <a name=\"imports\"></a>"
   ]
  },
  {
   "cell_type": "code",
   "execution_count": null,
   "id": "93bd16c8-c5af-4bea-95d0-2fb5e848d5a7",
   "metadata": {},
   "outputs": [],
   "source": [
    "import sys\n",
    "sys.path.append('/home/jorge/research/peptides/simulations/peptides')\n",
    "from mdtools.core import *\n",
    "from mdtools.statistics import *"
   ]
  },
  {
   "cell_type": "markdown",
   "id": "a14c4811-60d1-4c72-8a80-67425c166ff7",
   "metadata": {},
   "source": [
    "### System parameters <a name=\"parameters\"></a>"
   ]
  },
  {
   "cell_type": "code",
   "execution_count": null,
   "id": "38990948-0378-479f-97e2-3056df5fb2a0",
   "metadata": {},
   "outputs": [],
   "source": [
    "# Fixed parameters\n",
    "'''\n",
    "Los tubos están colocados:\n",
    "1 2\n",
    "3 4\n",
    "'''\n",
    "\n",
    "traj_name = \"4t10s_run01\"\n",
    "N_tubes = 4 # Number of nantubes in the system\n",
    "N_rings = 10 # Number of peptides in a nanotube\n",
    "N_res = 8 # Number of resiudes in a peptide"
   ]
  },
  {
   "cell_type": "code",
   "execution_count": null,
   "id": "17fc2c69-b76e-4c48-9b65-e250998046fb",
   "metadata": {},
   "outputs": [],
   "source": [
    "# Get the reslist of the residues that are pointing towards the channel\n",
    "channel_reslist = get_channel_reslist(N_rings, N_res, [0, 1, 2, 3], [[4, 4], [2, 6], [0, 0], [6, 2]])\n",
    "mask = \"resid \"\n",
    "for res in channel_reslist:\n",
    "    mask += str(res + 1) + \" \"\n",
    "print(mask)"
   ]
  },
  {
   "cell_type": "code",
   "execution_count": null,
   "id": "10f8e1f7-e1c1-4923-8b8a-b92941c4d58f",
   "metadata": {},
   "outputs": [],
   "source": [
    "traj = md.load(traj_name+\"_RMSD.nc\", top=traj_name+\".parm7\")\n",
    "traj.center_coordinates()\n",
    "myselections = [\"resname LYS and name NZ\", \"resname LYN and name NZ\", \"resname TYD and name OH\"]\n",
    "p = MyParams(traj, N_tubes, N_rings, N_res, myselections)\n",
    "p.IONs = traj.top.select(\"element Cl\")\n",
    "p.IONs = traj.top.select(\"resname TFA and name OD1 OD2\")"
   ]
  },
  {
   "cell_type": "code",
   "execution_count": null,
   "id": "e2339e79-4c58-44be-baee-d307fe0c8409",
   "metadata": {},
   "outputs": [],
   "source": [
    "# Load data\n",
    "\n",
    "canaldata = pd.read_csv(\"channel0_stats.csv\")\n",
    "canaldata['tube'] = \"channel0\"\n",
    "\n",
    "alldata = canaldata\n",
    "for tubo in (range(1)):\n",
    "    tubedata = pd.read_csv(\"lumen\"+str(tubo)+\"_stats.csv\")\n",
    "    tubedata['tube'] = \"lumen\" + str(tubo)\n",
    "    alldata = alldata.append(tubedata, ignore_index=True)\n",
    "alldata.tail()\n",
    "\n",
    "detail = pd.read_csv(\"channel0_detail.csv\")\n",
    "detail['residues'] = detail['donor'] + '-' + detail['acceptor']\n",
    "detail['residues'].replace(to_replace='(\\w+)\\-\\w+\\-(\\w+\\-?)\\-\\w+\\-?', value=r'\\1-\\2', regex=True, inplace=True)\n",
    "detail.tail()"
   ]
  },
  {
   "cell_type": "markdown",
   "id": "7e92ab8d-6823-4d5c-b041-365e3e374a51",
   "metadata": {},
   "source": [
    "### Number statistics <a name=\"stats\"></a>"
   ]
  },
  {
   "cell_type": "code",
   "execution_count": null,
   "id": "cc7ff65d-b2fe-4463-90b7-8f0c14366002",
   "metadata": {},
   "outputs": [],
   "source": [
    "N_hist(alldata, x='N_WATs', bins='int', hue='tube', element='step', alpha=0.01,\n",
    "       title='Waters inside the tubes and the channel', xlabel='Number of water molecules inside')"
   ]
  },
  {
   "cell_type": "code",
   "execution_count": null,
   "id": "5a2b9f1c-edbf-429a-a8b3-2cef0aa2987c",
   "metadata": {},
   "outputs": [],
   "source": [
    "print(canaldata['N_WATs'].mean()/3, canaldata['N_WATs'].std()/3)\n",
    "print(alldata[alldata['tube']==1]['N_WATs'].mean()/3, alldata[alldata['tube']==1]['N_WATs'].std()/3)"
   ]
  },
  {
   "cell_type": "code",
   "execution_count": null,
   "id": "ff1573ec-621a-4d4c-8d98-3af7d5e3705f",
   "metadata": {},
   "outputs": [],
   "source": [
    "evolution(alldata, x='step', y='N_WATs', hue='tube',\n",
    "          title='Evolution of the number of waters inside the tubes and channel', ylabel='Number of water molecules inside')"
   ]
  },
  {
   "cell_type": "code",
   "execution_count": null,
   "id": "bd45e4b1-13a5-4b17-a715-43e8f34a4721",
   "metadata": {},
   "outputs": [],
   "source": [
    "N_hist(canaldata, x='N_WATs', bins='int', title='Waters inside the channel', xlabel='Number of water molecules inside')"
   ]
  },
  {
   "cell_type": "code",
   "execution_count": null,
   "id": "b8963043-d92e-4980-9549-ca569a962799",
   "metadata": {},
   "outputs": [],
   "source": [
    "N_hist(canaldata, x='N_IONs', bins='int', title='Ions inside the channel', xlabel='Number of ions inside')"
   ]
  },
  {
   "cell_type": "code",
   "execution_count": null,
   "id": "0da8e727-ba15-425e-82ac-d9c4b61b1603",
   "metadata": {},
   "outputs": [],
   "source": [
    "fig, ax = plt.subplots()\n",
    "evolution(alldata, x='step', y='N_WATs', label='Water')\n",
    "evolution(alldata, x='step', y='N_IONs', label='Ions')\n",
    "\n",
    "fig, ax = plt.subplots()\n",
    "sns.lineplot(data=canaldata, x=\"istep\", y=\"N_wats\", label=\"Water\")\n",
    "sns.lineplot(data=canaldata, x=\"istep\", y=\"N_cls\", label=\"Chloride\")\n",
    "title = 'Evolution of the number of waters and chlorides inside the channel'\n",
    "xlabel = 'Step'\n",
    "ylabel = 'Number of waters/chlorides'\n",
    "decorate_ax(ax, title, 16, xlabel, ylabel, 14, 12, 2, 4, True)"
   ]
  },
  {
   "cell_type": "markdown",
   "id": "661165fe-62af-47b6-989a-de646afd0311",
   "metadata": {},
   "source": [
    "### Hydrogen bond statistics <a name=\"hbonds\"></a>"
   ]
  },
  {
   "cell_type": "code",
   "execution_count": null,
   "id": "dbcbb117-c2ba-4b25-b2e9-273ea81730e5",
   "metadata": {},
   "outputs": [],
   "source": [
    "N_hist(alldata, x='N_HBonds', bins='int', hue='tube', element='step', alpha=0.01,\n",
    "       title='Hydrogen bonds inside the tubes and the channel', xlabel='Number of hydrogen bonds inside')"
   ]
  },
  {
   "cell_type": "code",
   "execution_count": null,
   "id": "d0eb5887-845a-4cf7-bd5e-8b9b953d7d86",
   "metadata": {},
   "outputs": [],
   "source": [
    "alldata['N_HBonds'].mean()"
   ]
  },
  {
   "cell_type": "code",
   "execution_count": null,
   "id": "d117ed6a-7bf3-4b86-b098-84042b1ab9c0",
   "metadata": {},
   "outputs": [],
   "source": [
    "aux = detail[detail['donor']=='HOH-O']\n",
    "aux = aux[aux['acceptor'].isin(['LYN-O', 'LYS-O', 'PHD-O'])]\n",
    "N_hist(aux, x='N_HBonds', bins='int', hue='residues', element='step', alpha=0.01,\n",
    "       title='Hydrogen bonds (TYPE) inside the channel', xlabel='Number of hydrogen bonds inside')"
   ]
  },
  {
   "cell_type": "code",
   "execution_count": null,
   "id": "7a3ce443-829a-4aac-b2be-3d0d0aa3a5a0",
   "metadata": {},
   "outputs": [],
   "source": [
    "N_hist(alldata, x='ave_dist', hue='tube', element='step', alpha=0.01,\n",
    "       title='Average distance of the hydrogen bonds', xlabel='Average distance')"
   ]
  },
  {
   "cell_type": "code",
   "execution_count": null,
   "id": "6c5b3d94-2fe1-4733-8966-9871ce894249",
   "metadata": {},
   "outputs": [],
   "source": [
    "alldata['ave_dist'].mean()"
   ]
  },
  {
   "cell_type": "code",
   "execution_count": null,
   "id": "2d8aed9f-0363-4412-b8a8-76b3a7969f74",
   "metadata": {},
   "outputs": [],
   "source": [
    "aux = detail[~detail['donor'].isin(['LYN-N', 'LYS-N', 'PHD-N'])]\n",
    "aux = aux[~aux['acceptor'].isin(['LYN-O', 'LYS-O', 'PHD-O', 'LYS-NZ', 'LYS-N'])]\n",
    "N_hist(aux, x='N_HBonds', bins='int', hue='residues', element='step', alpha=0.01,\n",
    "       title='Hydrogen bonds (TYPE) inside the channel', xlabel='Number of hydrogen bonds inside')"
   ]
  },
  {
   "cell_type": "code",
   "execution_count": null,
   "id": "4b287130-cc1f-43d5-90cb-c2e695d1368d",
   "metadata": {},
   "outputs": [],
   "source": [
    "for res in aux['residues'].unique():\n",
    "    print(res, aux[aux['residues']==res]['N_HBonds'].mean())"
   ]
  },
  {
   "cell_type": "code",
   "execution_count": null,
   "id": "9240c4b8-1724-484a-b2c1-3fbefe2e477b",
   "metadata": {},
   "outputs": [],
   "source": [
    "aux = detail[detail['residues']=='LYS-Cl-']\n",
    "N_hist(aux, x='N_HBonds', bins='int', hue='residues', element='step', alpha=0.01,\n",
    "       title='Hydrogen bonds (TYPE) inside the channel', xlabel='Number of hydrogen bonds inside')"
   ]
  },
  {
   "cell_type": "code",
   "execution_count": null,
   "id": "1c812d1c-fa08-4ce6-895e-c54d98104430",
   "metadata": {},
   "outputs": [],
   "source": [
    "aux = detail[detail['residues']=='LYN-Cl-']\n",
    "N_hist(aux, x='N_HBonds', bins='int', hue='residues', element='step', alpha=0.01,\n",
    "       title='Hydrogen bonds (TYPE) inside the channel', xlabel='Number of hydrogen bonds inside')"
   ]
  },
  {
   "cell_type": "code",
   "execution_count": null,
   "id": "1ae9c9f6-5763-4801-93ef-feb122cb622b",
   "metadata": {},
   "outputs": [],
   "source": [
    "aux = detail[detail[\"residues\"]=='HOH-Cl-']\n",
    "N_hist(aux, x='N_HBonds', bins='int', hue='residues', element='step', alpha=0.01,\n",
    "       title='Hydrogen bonds (TYPE) inside the channel', xlabel='Number of hydrogen bonds inside')"
   ]
  },
  {
   "cell_type": "code",
   "execution_count": null,
   "id": "f02dcbce-e63a-4491-9cd2-791eaf793da1",
   "metadata": {},
   "outputs": [],
   "source": [
    "fig, ax = plt.subplots()\n",
    "aux = detail[detail[\"acceptor\"].isin(['LYN-O', 'LYS-O', 'PHD-O'])]\n",
    "sns.lineplot(data=aux, x=\"istep\", y=\"N_HBonds\", label=\"-O\")\n",
    "aux = detail[detail[\"donor\"].isin(['LYN-N', 'LYS-N', 'PHD-N'])]\n",
    "sns.lineplot(data=aux, x=\"istep\", y=\"N_HBonds\", label=\"N-\")\n",
    "title = 'Hydrogen bonds with the backbone inside the channel'\n",
    "xlabel = 'Step'\n",
    "ylabel = 'Number of hydrogen bonds'\n",
    "decorate_ax(ax, title, 16, xlabel, ylabel, 14, 12, 2, 4, True)"
   ]
  },
  {
   "cell_type": "code",
   "execution_count": null,
   "id": "31e733ea-903e-4136-8e31-335df205b2a7",
   "metadata": {},
   "outputs": [],
   "source": [
    "aux = detail[detail[\"residues\"]==\"HOH-HOH\"]\n",
    "aux['tube'] = \"channel\"\n",
    "aux = aux.append(alldata[alldata[\"tube\"]!=\"channel\"], ignore_index=True)\n",
    "N_hist(aux, x='N_HBonds', bins='int', hue='tube', element='step', alpha=0.01,\n",
    "       title='Hydrogen bonds (only WAT-WAT) inside the lumen and the channel', xlabel='Number of hydrogen bonds inside')"
   ]
  },
  {
   "cell_type": "code",
   "execution_count": null,
   "id": "d7e80a68-6121-49ed-8dca-ec11a372085e",
   "metadata": {},
   "outputs": [],
   "source": [
    "aux = detail[~detail['donor'].isin(['LYN-N', 'LYS-N', 'PHD-N'])]\n",
    "aux = aux[~aux['acceptor'].isin(['LYN-O', 'LYS-O', 'PHD-O'])]\n",
    "aux = aux[~aux[\"residues\"].isin([\"HOH-Cl-\", \"LYN-Cl-\", \"LYS-Cl-\"])]\n",
    "\n",
    "new = pd.DataFrame(columns=['step', 'N_HBonds'])\n",
    "for step in range(min(aux['step']), max(aux['step'])):\n",
    "    N_hbonds = 0\n",
    "    for index, data in aux[aux['step']==step].iterrows():\n",
    "        N_hbonds += data[\"N_HBonds\"]\n",
    "    new.loc[new.shape[0]] = [step, N_hbonds]\n",
    "new\n",
    "new['tube'] = \"channel\"\n",
    "new = new.append(alldata[alldata[\"tube\"]!=\"channel\"], ignore_index=True)\n",
    "\n",
    "N_hist(new, x='N_HBonds', bins='int', hue='tube', element='step', alpha=0.01,\n",
    "       title='Hydrogen bonds (no Cl) inside the lumen and the channel', xlabel='Number of hydrogen bonds inside')"
   ]
  },
  {
   "cell_type": "code",
   "execution_count": null,
   "id": "d54dd2a5-ca51-462f-a645-b38e7955ddd7",
   "metadata": {},
   "outputs": [],
   "source": [
    "aux = detail[~detail['donor'].isin(['LYN-N', 'LYS-N', 'PHD-N'])]\n",
    "aux = aux[~aux['acceptor'].isin(['LYN-O', 'LYS-O', 'PHD-O', 'LYS-NZ', 'LYS-N'])]\n",
    "N_hist(aux, x='ave_dist', hue='residues', element='step', alpha=0.01,\n",
    "       title='Average distance of the hydrogen bonds by type', xlabel='Average distance')"
   ]
  },
  {
   "cell_type": "markdown",
   "id": "7355f914-9427-4e45-ab77-1279db3ccf89",
   "metadata": {},
   "source": [
    "### Path-residues <a name=\"respaths\"></a>"
   ]
  },
  {
   "cell_type": "code",
   "execution_count": null,
   "id": "7db22225-a6fc-4fe9-bc2b-87f1fce32038",
   "metadata": {},
   "outputs": [],
   "source": []
  }
 ],
 "metadata": {
  "kernelspec": {
   "display_name": "peptides",
   "language": "python",
   "name": "peptides"
  },
  "language_info": {
   "codemirror_mode": {
    "name": "ipython",
    "version": 3
   },
   "file_extension": ".py",
   "mimetype": "text/x-python",
   "name": "python",
   "nbconvert_exporter": "python",
   "pygments_lexer": "ipython3",
   "version": "3.7.16"
  }
 },
 "nbformat": 4,
 "nbformat_minor": 5
}
