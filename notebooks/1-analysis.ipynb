{
 "cells": [
  {
   "cell_type": "markdown",
   "id": "04e1d9a8",
   "metadata": {},
   "source": [
    "# Analysis\n",
    "\n",
    "### Index\n",
    "0. [Imports](#imports)\n",
    "1. [System parameters](#parameters)\n",
    "2. [Water molecules and ions inside the region](#region)\n",
    "3. [Hydrogen bonds](#hbonds)\n",
    "4. [Paths](#paths)\n",
    "5. [Water stability](#stability)"
   ]
  },
  {
   "cell_type": "markdown",
   "id": "81865234",
   "metadata": {},
   "source": [
    "### Imports <a name=\"imports\"></a>"
   ]
  },
  {
   "cell_type": "code",
   "execution_count": null,
   "id": "a46657eb",
   "metadata": {},
   "outputs": [],
   "source": [
    "import sys\n",
    "sys.path.append('/home/jorge/research/peptides/simulations/peptides')\n",
    "from mdtools.core import *\n",
    "from mdtools.analysis import *"
   ]
  },
  {
   "cell_type": "markdown",
   "id": "4842af2b-8b2d-4f28-a348-c72a3fe5bf54",
   "metadata": {},
   "source": [
    "### System parameters <a name=\"parameters\"></a>"
   ]
  },
  {
   "cell_type": "code",
   "execution_count": null,
   "id": "24700e84-5cd5-46db-ad4e-d7269f082175",
   "metadata": {},
   "outputs": [],
   "source": [
    "# Fixed parameters\n",
    "'''\n",
    "Los tubos están colocados:\n",
    "1 2\n",
    "3 4\n",
    "'''\n",
    "\n",
    "traj_name = \"4t10s_run01\"\n",
    "N_tubes = 4 # Number of nantubes in the system\n",
    "N_rings = 10 # Number of peptides in a nanotube\n",
    "N_res = 8 # Number of resiudes in a peptide"
   ]
  },
  {
   "cell_type": "code",
   "execution_count": null,
   "id": "068b4e75-33cd-4981-9fd8-a6aeb05ba3ca",
   "metadata": {},
   "outputs": [],
   "source": [
    "# Get the reslist of the residues that are pointing towards the channel\n",
    "channel_reslist = get_channel_reslist(N_rings, N_res, [0, 1, 2, 3], [[4, 4], [2, 6], [0, 0], [6, 2]])\n",
    "mask = \"resid \"\n",
    "for res in channel_reslist:\n",
    "    mask += str(res + 1) + \" \"\n",
    "print(mask)"
   ]
  },
  {
   "cell_type": "code",
   "execution_count": null,
   "id": "7fcabf08-34d9-41a5-8cb7-2036a47e3358",
   "metadata": {},
   "outputs": [],
   "source": [
    "# ONLY ONE TIME\n",
    "# recenter_traj_RMSD(traj_name, N_tubes, N_res)"
   ]
  },
  {
   "cell_type": "code",
   "execution_count": null,
   "id": "41b34255-0289-4a6a-8e68-ccea6beaa886",
   "metadata": {},
   "outputs": [],
   "source": [
    "traj = md.load(traj_name+\"_RMSD.nc\", top=traj_name+\".parm7\")\n",
    "traj.center_coordinates()\n",
    "myselections = [\"resname LYS and name NZ\", \"resname LYN and name NZ\", \"resname TYD and name OH\"]\n",
    "p = MyParams(traj, N_tubes, N_rings, N_res, myselections)\n",
    "p.IONs = traj.top.select(\"element Cl\")\n",
    "p.IONs = traj.top.select(\"resname TFA and name OD1 OD2\")"
   ]
  },
  {
   "cell_type": "markdown",
   "id": "d7480afe-a749-41e2-806d-d495319061eb",
   "metadata": {},
   "source": [
    "### Water molecules and ions inside the region <a name=\"region\"></a>"
   ]
  },
  {
   "cell_type": "code",
   "execution_count": null,
   "id": "aa6c7f91-519a-43b9-b889-2bbd28ba7def",
   "metadata": {},
   "outputs": [],
   "source": [
    "# Water molecules and ions nearby the bundle\n",
    "get_indices(traj, p.WATs, p.IONs, p.CAs, p.N_rings, layer=0, delta=1.0,\n",
    "            save=True, savefileWATs=\"iterWATs\", savefileIONs=\"iterIONs\")"
   ]
  },
  {
   "cell_type": "code",
   "execution_count": null,
   "id": "a75b7ac6-9d20-46bf-99ef-3a6be598655f",
   "metadata": {},
   "outputs": [],
   "source": [
    "# Load water molecules and ions\n",
    "iterWATs = np.load(\"iterWATs.npy\", allow_pickle=True)\n",
    "iterIONs = np.load(\"iterIONs.npy\", allow_pickle=True)"
   ]
  },
  {
   "cell_type": "code",
   "execution_count": null,
   "id": "eba14cb2-daf3-418f-8e87-9bd6625d8dfc",
   "metadata": {},
   "outputs": [],
   "source": [
    "# Water molecules and ions inside the lumina\n",
    "\n",
    "print(\"Analysing lumen 0\")\n",
    "get_indices(traj, iterWATs, iterIONs, [CA for CA in p.CAs if CA.tube==0], p.N_rings, layer=3, boundary=2, delta=0.0,\n",
    "            preselected=True, save=True, savefileWATs=\"iterWATs_lumen0\", savefileIONs=\"iterIONs_lumen0\")\n",
    "\n",
    "print(\"Analysing lumen 1\")\n",
    "get_indices(traj, iterWATs, iterIONs, [CA for CA in p.CAs if CA.tube==1], p.N_rings, layer=3, boundary=2, delta=0.0,\n",
    "            preselected=True, save=True, savefileWATs=\"iterWATs_lumen1\", savefileIONs=\"iterIONs_lumen1\")\n",
    "\n",
    "print(\"Analysing lumen 2\")\n",
    "get_indices(traj, iterWATs, iterIONs, [CA for CA in p.CAs if CA.tube==2], p.N_rings, layer=3, boundary=2, delta=0.0,\n",
    "            preselected=True, save=True, savefileWATs=\"iterWATs_lumen2\", savefileIONs=\"iterIONs_lumen2\")\n",
    "\n",
    "print(\"Analysing lumen 3\")\n",
    "get_indices(traj, iterWATs, iterIONs, [CA for CA in p.CAs if CA.tube==3], p.N_rings, layer=3, boundary=2, delta=0.0,\n",
    "            preselected=True, save=True, savefileWATs=\"iterWATs_lumen3\", savefileIONs=\"iterIONs_lumen3\")"
   ]
  },
  {
   "cell_type": "code",
   "execution_count": null,
   "id": "c1fa8ff1-1fe7-4d97-8263-361b09766967",
   "metadata": {},
   "outputs": [],
   "source": [
    "# Water molecules and ions inside the channels\n",
    "\n",
    "print(\"Analysing channel 0\")\n",
    "get_indices_xtal(traj, p.WATs, p.IONs, get_atoms_in_reslist(p.CAs, channel_reslist), p.N_rings,\n",
    "                 save=True, savefileWATs=\"iterWATs_channel0\", savefileIONs=\"iterIONs_channel0\")\n",
    "\n",
    "print(\"Analysing channel 1\")\n",
    "get_indices_xtal(traj, p.WATs, p.IONs, get_atoms_in_reslist(p.CAs, channel_reslist), p.N_rings,\n",
    "                 offsets=[np.array([-0.5, 0.0, 0.0]), np.array([0.5, 0.0, 0.0])],\n",
    "                 save=True, savefileWATs=\"iterWATs_channel1\", savefileIONs=\"iterIONs_channel1\")\n",
    "\n",
    "print(\"Analysing channel 2\")\n",
    "get_indices_xtal(traj, p.WATs, p.IONs, get_atoms_in_reslist(p.CAs, channel_reslist), p.N_rings,\n",
    "                 offsets=[np.array([0.0, -0.5, 0.0]), np.array([0.0, 0.5, 0.0])],\n",
    "                 save=True, savefileWATs=\"iterWATs_channel2\", savefileIONs=\"iterIONs_channel2\")\n",
    "\n",
    "print(\"Analysing channel 3\")\n",
    "get_indices_xtal(traj, p.WATs, p.IONs, get_atoms_in_reslist(p.CAs, channel_reslist), p.N_rings,\n",
    "                 offsets=[np.array([-0.5, -0.5, 0.0]), np.array([-0.5, 0.5, 0.0]), np.array([0.5, 0.5, 0.0]), np.array([0.5, -0.5, 0.0])],\n",
    "                 save=True, savefileWATs=\"iterWATs_channel3\", savefileIONs=\"iterIONs_channel3\")"
   ]
  },
  {
   "cell_type": "code",
   "execution_count": null,
   "id": "54c6a5e7-d86c-4998-b3d9-bf1632641473",
   "metadata": {},
   "outputs": [],
   "source": [
    "# Check\n",
    "iterWATs = np.load(\"iterWATs_channel0.npy\", allow_pickle=True)\n",
    "WATs = iterWATs[-1]\n",
    "mask = \"same residue as index \"\n",
    "for index in WATs:\n",
    "    mask += str(index) + \" \"\n",
    "mask"
   ]
  },
  {
   "cell_type": "markdown",
   "id": "d63fb0cf-1c8b-45f2-b4cf-538e38766f88",
   "metadata": {},
   "source": [
    "### Hydrogen bonds <a name=\"hbonds\"></a>"
   ]
  },
  {
   "cell_type": "code",
   "execution_count": null,
   "id": "cbfa4ef1-05e1-47af-8c88-185f6e9d272a",
   "metadata": {},
   "outputs": [],
   "source": [
    "print(\"Analysing channel 0\")\n",
    "channel0_reslist = get_channel_reslist(N_rings, N_res, [0, 1, 2, 3], [[4, 4], [2, 6], [0, 0], [6, 2]])\n",
    "analyse(p, traj, \"channel0\", reslist=channel0_reslist, distance_cutoff=2.5, angle_cutoff=120, xtal=True)\n",
    "\n",
    "print(\"Analysing channel 1\")\n",
    "channel1_reslist = get_channel_reslist(N_rings, N_res, [0, 1, 2, 3], [[2, 6], [4, 4], [6, 2], [0, 0]])\n",
    "analyse(p, traj, \"channel1\", reslist=channel1_reslist, distance_cutoff=2.5, angle_cutoff=120, xtal=True)\n",
    "\n",
    "print(\"Analysing channel 2\")\n",
    "channel2_reslist = get_channel_reslist(N_rings, N_res, [0, 1, 2, 3], [[6, 2], [0, 0], [2, 6], [4, 4]])\n",
    "analyse(p, traj, \"channel2\", reslist=channel2_reslist, distance_cutoff=2.5, angle_cutoff=120, xtal=True)\n",
    "\n",
    "print(\"Analysing channel 3\")\n",
    "channel3_reslist = get_channel_reslist(N_rings, N_res, [0, 1, 2, 3], [[0, 0], [6, 2], [4, 4], [2, 6]])\n",
    "analyse(p, traj, \"channel3\", reslist=channel3_reslist, distance_cutoff=2.5, angle_cutoff=120, xtal=True)"
   ]
  },
  {
   "cell_type": "code",
   "execution_count": null,
   "id": "39ed522a-5a9e-456f-a90c-d9eaddb95c9d",
   "metadata": {},
   "outputs": [],
   "source": [
    "# Check\n",
    "mask = \"resid \"\n",
    "for res in channel3_reslist:\n",
    "    mask += str(res + 1) + \" \"\n",
    "mask"
   ]
  },
  {
   "cell_type": "code",
   "execution_count": null,
   "id": "563a1ca0-f6aa-4624-92ea-cdfa18a4bbe4",
   "metadata": {},
   "outputs": [],
   "source": [
    "print(\"Analysing channel 0\")\n",
    "detail_hbonds(\"channel0\")\n",
    "\n",
    "print(\"Analysing channel 1\")\n",
    "detail_hbonds(\"channel1\")\n",
    "\n",
    "print(\"Analysing channel 2\")\n",
    "detail_hbonds(\"channel2\")\n",
    "\n",
    "print(\"Analysing channel 3\")\n",
    "detail_hbonds(\"channel3\")"
   ]
  },
  {
   "cell_type": "markdown",
   "id": "055bf712-5274-4b7c-a25d-80e5611b13ca",
   "metadata": {},
   "source": [
    "### Paths <a name=\"paths\"></a>"
   ]
  },
  {
   "cell_type": "code",
   "execution_count": null,
   "id": "f606751f-9a1e-4939-941d-7c126ea3b4a5",
   "metadata": {},
   "outputs": [],
   "source": [
    "print(\"Analysing channel 0\")\n",
    "search_longestpaths(traj, \"channel0\", xtal=True)\n",
    "\n",
    "print(\"Analysing channel 1\")\n",
    "search_longestpaths(traj, \"channel1\", xtal=True)\n",
    "\n",
    "print(\"Analysing channel 2\")\n",
    "search_longestpaths(traj, \"channel2\", xtal=True)\n",
    "\n",
    "print(\"Analysing channel 3\")\n",
    "search_longestpaths(traj, \"channel3\", xtal=True)"
   ]
  },
  {
   "cell_type": "markdown",
   "id": "a50ae996-ec5a-438f-ade4-950506aeacda",
   "metadata": {},
   "source": [
    "### Water stability <a name=\"stability\"></a>"
   ]
  },
  {
   "cell_type": "code",
   "execution_count": null,
   "id": "83f41f2e-6157-482a-8120-57b45a8b9811",
   "metadata": {},
   "outputs": [],
   "source": [
    "water_channel_stability(traj)"
   ]
  },
  {
   "cell_type": "code",
   "execution_count": null,
   "id": "e570b659-eb61-4207-85e8-b65725213a79",
   "metadata": {},
   "outputs": [],
   "source": []
  }
 ],
 "metadata": {
  "kernelspec": {
   "display_name": "peptides",
   "language": "python",
   "name": "peptides"
  },
  "language_info": {
   "codemirror_mode": {
    "name": "ipython",
    "version": 3
   },
   "file_extension": ".py",
   "mimetype": "text/x-python",
   "name": "python",
   "nbconvert_exporter": "python",
   "pygments_lexer": "ipython3",
   "version": "3.7.16"
  }
 },
 "nbformat": 4,
 "nbformat_minor": 5
}
