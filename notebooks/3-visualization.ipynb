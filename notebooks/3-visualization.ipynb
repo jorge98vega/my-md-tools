{
 "cells": [
  {
   "cell_type": "markdown",
   "id": "b4953f48-18f7-45e9-90ac-3c8b8c378634",
   "metadata": {},
   "source": [
    "# Visualization\n",
    "\n",
    "### Index\n",
    "0. [Imports](#imports)\n",
    "1. [System parameters](#parameters)\n",
    "2. [Structure](#structure)\n",
    "3. [Networks](#networks)"
   ]
  },
  {
   "cell_type": "markdown",
   "id": "e4c6e0b1-401c-4b1c-92d0-38904f3a9fbf",
   "metadata": {},
   "source": [
    "### Imports <a name=\"imports\"></a>"
   ]
  },
  {
   "cell_type": "code",
   "execution_count": null,
   "id": "e7a0910b-7d44-4db1-86c1-f40399998dba",
   "metadata": {},
   "outputs": [],
   "source": [
    "%matplotlib widget\n",
    "\n",
    "import sys\n",
    "sys.path.append('/home/jorge/research/peptides/simulations/peptides')\n",
    "from mdtools.core import *\n",
    "from mdtools.visualization import *"
   ]
  },
  {
   "cell_type": "markdown",
   "id": "3cf8be51-6185-49ed-98f0-3077d8ef73ba",
   "metadata": {},
   "source": [
    "### System parameters <a name=\"parameters\"></a>"
   ]
  },
  {
   "cell_type": "code",
   "execution_count": null,
   "id": "5e0d66e2-ee31-41b9-9800-1df744c64506",
   "metadata": {},
   "outputs": [],
   "source": [
    "# Fixed parameters\n",
    "'''\n",
    "Los tubos están colocados:\n",
    "1 2\n",
    "3 4\n",
    "'''\n",
    "\n",
    "traj_name = \"4t10s_run01\"\n",
    "N_tubes = 4 # Number of nantubes in the system\n",
    "N_rings = 10 # Number of peptides in a nanotube\n",
    "N_res = 8 # Number of resiudes in a peptide"
   ]
  },
  {
   "cell_type": "code",
   "execution_count": null,
   "id": "dd2bd36b-15ff-4249-993d-48a315487915",
   "metadata": {},
   "outputs": [],
   "source": [
    "# Get the reslist of the residues that are pointing towards the channel\n",
    "channel_reslist = get_channel_reslist(N_rings, N_res, [0, 1, 2, 3], [[4, 4], [2, 6], [0, 0], [6, 2]])\n",
    "mask = \"resid \"\n",
    "for res in channel_reslist:\n",
    "    mask += str(res + 1) + \" \"\n",
    "print(mask)"
   ]
  },
  {
   "cell_type": "code",
   "execution_count": null,
   "id": "8909ebe0-29f0-4996-9e87-f79ab77cae36",
   "metadata": {},
   "outputs": [],
   "source": [
    "traj = md.load(traj_name+\"_RMSD.nc\", top=traj_name+\".parm7\")\n",
    "traj.center_coordinates()\n",
    "myselections = [\"resname LYS and name NZ\", \"resname LYN and name NZ\", \"resname TYD and name OH\"]\n",
    "p = MyParams(traj, N_tubes, N_rings, N_res, myselections)\n",
    "p.IONs = traj.top.select(\"element Cl\")\n",
    "p.IONs = traj.top.select(\"resname TFA and name OD1 OD2\")"
   ]
  },
  {
   "cell_type": "markdown",
   "id": "76029460-e011-4853-996d-cef8a01fa359",
   "metadata": {},
   "source": [
    "### Structure <a name=\"structure\"></a>"
   ]
  },
  {
   "cell_type": "code",
   "execution_count": null,
   "id": "f934246a-b890-47bb-8548-51a8c9044fd2",
   "metadata": {},
   "outputs": [],
   "source": [
    "plot_CAs(p, traj, 1000)"
   ]
  },
  {
   "cell_type": "code",
   "execution_count": null,
   "id": "6c306876-06ae-4854-a6f4-f3795bc4e64c",
   "metadata": {},
   "outputs": [],
   "source": [
    "offsets = [np.array([0.0, 0.0, 0.0]), np.array([0.5, 0.0, 0.0]), np.array([-0.5, 0.0, 0.0]),\n",
    "           np.array([0.0, 0.5, 0.0]), np.array([0.0, -0.5, 0.0]), np.array([0.5, 0.5, 0.0]),\n",
    "           np.array([0.5, -0.5, 0.0]), np.array([-0.5, 0.5, 0.0]), np.array([-0.5, -0.5, 0.0])]\n",
    "plot_region(p, traj, 0, get_atoms_in_reslist(p.CAs, channel_reslist),\n",
    "            WATfile=None, layer=0, delta_r=0.0, delta_z=0.0, offsets=offsets, lvsunits=True)"
   ]
  },
  {
   "cell_type": "markdown",
   "id": "ef0d758b-2b64-4352-a8d5-a87d5d82f089",
   "metadata": {},
   "source": [
    "### Networks <a name=\"networks\"></a>"
   ]
  },
  {
   "cell_type": "code",
   "execution_count": null,
   "id": "a013ef25-8dbe-4f0f-8637-6e5f04f38996",
   "metadata": {},
   "outputs": [],
   "source": [
    "plot_network_3D(p, traj, 0, \"channel1\", reslist=channel_reslist, layer=0, xtalcenter=np.array([0, 0, 0]))"
   ]
  },
  {
   "cell_type": "code",
   "execution_count": null,
   "id": "f9dae276-fd5c-4082-babb-8cc9aa95a694",
   "metadata": {},
   "outputs": [],
   "source": []
  }
 ],
 "metadata": {
  "kernelspec": {
   "display_name": "peptides",
   "language": "python",
   "name": "peptides"
  },
  "language_info": {
   "codemirror_mode": {
    "name": "ipython",
    "version": 3
   },
   "file_extension": ".py",
   "mimetype": "text/x-python",
   "name": "python",
   "nbconvert_exporter": "python",
   "pygments_lexer": "ipython3",
   "version": "3.7.16"
  }
 },
 "nbformat": 4,
 "nbformat_minor": 5
}
